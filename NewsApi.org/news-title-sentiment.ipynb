{
 "cells": [
  {
   "cell_type": "code",
   "execution_count": null,
   "metadata": {},
   "outputs": [
    {
     "ename": "",
     "evalue": "",
     "output_type": "error",
     "traceback": [
      "\u001b[1;31mRunning cells with 'Python 3.13.0' requires the ipykernel package.\n",
      "\u001b[1;31mRun the following command to install 'ipykernel' into the Python environment. \n",
      "\u001b[1;31mCommand: '/opt/homebrew/bin/python3 -m pip install ipykernel -U --user --force-reinstall'"
     ]
    }
   ],
   "source": [
    "from newsapi import NewsApiClient\n",
    "import requests\n",
    "from env import api_key\n",
    "from textblob import TextBlob\n",
    "import matplotlib.pyplot as plt\n",
    "\n",
    "# Define the URL for the News API request\n",
    "url = f\"https://newsapi.org/v2/everything?q=AI&sortBy=popularity&language=en&from=2024-11-14&to=2024-11-14&apiKey={api_key}\"\n",
    "\n",
    "# Make a GET request to the News API\n",
    "response = requests.get(url)\n",
    "# Parse the JSON response from the API\n",
    "data = response.json()\n",
    "# Extract the titles of all articles from the response\n",
    "titles = [article['title'] for article in data['articles']]\n",
    "\n",
    "# Limit the list to the first 10 titles\n",
    "limited_titles = titles[:10]\n",
    "\n",
    "# Function to perform sentiment analysis\n",
    "def analyze_sentiment(text):\n",
    "    analysis = TextBlob(text)\n",
    "    return analysis.sentiment.polarity\n",
    "\n",
    "# Analyze sentiment for each title\n",
    "sentiments = [analyze_sentiment(title) for title in limited_titles]\n",
    "\n",
    "# Visualize the results\n",
    "plt.figure(figsize=(10, 5)) # Set the figure size to 10 inches wide by 5 inches tall\n",
    "plt.barh(limited_titles, sentiments, color='skyblue') # Create a horizontal bar plot with the titles on the y-axis and their sentiment scores on the x-axis\n",
    "# The bars are colored 'skyblue'\n",
    "plt.xlabel('Sentiment Polarity') # Label the x-axis to indicate it represents sentiment polarity\n",
    "plt.title('Sentiment Analysis of News Titles') # Set the title of the plot\n",
    "plt.show() # Display the plot\n",
    "\n",
    "#Sentiment analysis with TextBlob assigns a polarity score to each piece of text. This score ranges from -1 to 1:\n",
    "# -1 indicates a very negative sentiment.\n",
    "# 0 indicates a neutral sentiment.\n",
    "# 1 indicates a very positive sentiment."
   ]
  }
 ],
 "metadata": {
  "kernelspec": {
   "display_name": "Python 3",
   "language": "python",
   "name": "python3"
  },
  "language_info": {
   "name": "python",
   "version": "3.13.0"
  }
 },
 "nbformat": 4,
 "nbformat_minor": 2
}
